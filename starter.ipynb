{
 "cells": [
  {
   "cell_type": "markdown",
   "metadata": {},
   "source": [
    "# Deploy and monitor a machine learning workflow for Image Classification"
   ]
  },
  {
   "cell_type": "markdown",
   "metadata": {},
   "source": [
    "## Setting up this notebook\n",
    "\n",
    "Notes about the instance size and kernel setup: this notebook has been tested on\n",
    "\n",
    "1. The `Python 3 (Data Science)` kernel\n",
    "2. The `ml.t3.medium` Sagemaker notebook instance\n",
    "\n",
    "## Data Staging\n",
    "\n",
    "We'll use a sample dataset called CIFAR to simulate the challenges Scones Unlimited are facing in Image Classification. In order to start working with CIFAR we'll need to:\n",
    "\n",
    "1. Extract the data from a hosting service\n",
    "2. Transform it into a usable shape and format\n",
    "3. Load it into a production system\n",
    "\n",
    "In other words, we're going to do some simple ETL!\n",
    "\n",
    "### 1. Extract the data from the hosting service\n",
    "\n",
    "In the cell below, define a function `extract_cifar_data` that extracts python version of the CIFAR-100 dataset. The CIFAR dataaset is open source and generously hosted by the University of Toronto at: https://www.cs.toronto.edu/~kriz/cifar-100-python.tar.gz "
   ]
  },
  {
   "cell_type": "code",
   "execution_count": 3,
   "metadata": {},
   "outputs": [],
   "source": [
    "import requests\n",
    "\n",
    "def extract_cifar_data(url, filename=\"cifar.tar.gz\"):\n",
    "    \"\"\"A function for extracting the CIFAR-100 dataset and storing it as a gzipped file\n",
    "    \n",
    "    Arguments:\n",
    "    url      -- the URL where the dataset is hosted\n",
    "    filename -- the full path where the dataset will be written\n",
    "    \n",
    "    \"\"\"\n",
    "    \n",
    "    # Todo: request the data from the data url\n",
    "    # Hint: use `requests.get` method\n",
    "    r = requests.get(url)\n",
    "    with open(filename, \"wb\") as file_context:\n",
    "        file_context.write(r.content)\n",
    "    return"
   ]
  },
  {
   "cell_type": "markdown",
   "metadata": {},
   "source": [
    "Let's test it out! Run the following cell and check whether a new file `cifar.tar.gz` is created in the file explorer."
   ]
  },
  {
   "cell_type": "code",
   "execution_count": 4,
   "metadata": {},
   "outputs": [],
   "source": [
    "extract_cifar_data(\"https://www.cs.toronto.edu/~kriz/cifar-100-python.tar.gz\")     "
   ]
  },
  {
   "cell_type": "markdown",
   "metadata": {},
   "source": [
    "### 2. Transform the data into a usable shape and format\n",
    "\n",
    "Clearly, distributing the data as a gzipped archive makes sense for the hosting service! It saves on bandwidth, storage, and it's a widely-used archive format. In fact, it's so widely used that the Python community ships a utility for working with them, `tarfile`, as part of its Standard Library. Execute the following cell to decompress your extracted dataset:"
   ]
  },
  {
   "cell_type": "code",
   "execution_count": 5,
   "metadata": {},
   "outputs": [],
   "source": [
    "import tarfile\n",
    "\n",
    "with tarfile.open(\"cifar.tar.gz\", \"r:gz\") as tar:\n",
    "    tar.extractall()"
   ]
  },
  {
   "cell_type": "markdown",
   "metadata": {},
   "source": [
    "A new folder `cifar-100-python` should be created, containing `meta`, `test`, and `train` files. These files are `pickles` and the [CIFAR homepage](https://www.cs.toronto.edu/~kriz/cifar.html) provides a simple script that can be used to load them. We've adapted the script below for you to run:"
   ]
  },
  {
   "cell_type": "code",
   "execution_count": 6,
   "metadata": {},
   "outputs": [],
   "source": [
    "import pickle\n",
    "\n",
    "with open(\"./cifar-100-python/meta\", \"rb\") as f:\n",
    "    dataset_meta = pickle.load(f, encoding='bytes')\n",
    "\n",
    "with open(\"./cifar-100-python/test\", \"rb\") as f:\n",
    "    dataset_test = pickle.load(f, encoding='bytes')\n",
    "\n",
    "with open(\"./cifar-100-python/train\", \"rb\") as f:\n",
    "    dataset_train = pickle.load(f, encoding='bytes')"
   ]
  },
  {
   "cell_type": "code",
   "execution_count": 7,
   "metadata": {},
   "outputs": [
    {
     "data": {
      "text/plain": [
       "dict_keys([b'filenames', b'batch_label', b'fine_labels', b'coarse_labels', b'data'])"
      ]
     },
     "execution_count": 7,
     "metadata": {},
     "output_type": "execute_result"
    }
   ],
   "source": [
    "# Feel free to explore the datasets\n",
    "\n",
    "dataset_train.keys()"
   ]
  },
  {
   "cell_type": "markdown",
   "metadata": {},
   "source": [
    "As documented on the homepage, `b'data'` contains rows of 3073 unsigned integers, representing three channels (red, green, and blue) for one 32x32 pixel image per row."
   ]
  },
  {
   "cell_type": "code",
   "execution_count": 8,
   "metadata": {},
   "outputs": [
    {
     "data": {
      "text/plain": [
       "3072"
      ]
     },
     "execution_count": 8,
     "metadata": {},
     "output_type": "execute_result"
    }
   ],
   "source": [
    "32*32*3"
   ]
  },
  {
   "cell_type": "markdown",
   "metadata": {},
   "source": [
    "For a simple gut-check, let's transform one of our images. Each 1024 items in a row is a channel (red, green, then blue). Each 32 items in the channel are a row in the 32x32 image. Using python, we can stack these channels into a 32x32x3 array, and save it as a PNG file:"
   ]
  },
  {
   "cell_type": "code",
   "execution_count": 9,
   "metadata": {},
   "outputs": [],
   "source": [
    "import numpy as np\n",
    "\n",
    "# Each 1024 in a row is a channel (red, green, then blue)\n",
    "row = dataset_train[b'data'][0]\n",
    "red, green, blue = row[0:1024], row[1024:2048], row[2048:]\n",
    "\n",
    "# Each 32 items in the channel are a row in the 32x32 image\n",
    "red = red.reshape(32,32)\n",
    "green = green.reshape(32,32)\n",
    "blue = blue.reshape(32,32)\n",
    "\n",
    "# Combine the channels into a 32x32x3 image!\n",
    "combined = np.dstack((red,green,blue))"
   ]
  },
  {
   "cell_type": "markdown",
   "metadata": {},
   "source": [
    "For a more concise version, consider the following:"
   ]
  },
  {
   "cell_type": "code",
   "execution_count": 10,
   "metadata": {},
   "outputs": [],
   "source": [
    "# All in one:\n",
    "test_image = np.dstack((\n",
    "    row[0:1024].reshape(32,32),\n",
    "    row[1024:2048].reshape(32,32),\n",
    "    row[2048:].reshape(32,32)\n",
    "))"
   ]
  },
  {
   "cell_type": "code",
   "execution_count": 12,
   "metadata": {},
   "outputs": [
    {
     "data": {
      "image/png": "[encoded data removed]",
      "text/plain": [
       "<Figure size 432x288 with 1 Axes>"
      ]
     },
     "metadata": {
      "needs_background": "light"
     },
     "output_type": "display_data"
    }
   ],
   "source": [
    "import matplotlib.pyplot as plt\n",
    "%matplotlib inline\n",
    "plt.imshow(test_image);"
   ]
  },
  {
   "cell_type": "markdown",
   "metadata": {},
   "source": [
    "Looks like a cow! Let's check the label. `dataset_meta` contains label names in order, and `dataset_train` has a list of labels for each row."
   ]
  },
  {
   "cell_type": "code",
   "execution_count": 13,
   "metadata": {},
   "outputs": [
    {
     "data": {
      "text/plain": [
       "19"
      ]
     },
     "execution_count": 13,
     "metadata": {},
     "output_type": "execute_result"
    }
   ],
   "source": [
    "dataset_train[b'fine_labels'][0]"
   ]
  },
  {
   "cell_type": "markdown",
   "metadata": {},
   "source": [
    "Our image has a label of `19`, so let's see what the 19th item is in the list of label names."
   ]
  },
  {
   "cell_type": "code",
   "execution_count": 14,
   "metadata": {},
   "outputs": [
    {
     "name": "stdout",
     "output_type": "stream",
     "text": [
      "b'cattle'\n"
     ]
    }
   ],
   "source": [
    "print(dataset_meta[b'fine_label_names'][19])"
   ]
  },
  {
   "cell_type": "markdown",
   "metadata": {},
   "source": [
    "Ok! 'cattle' sounds about right. By the way, using the previous two lines we can do:"
   ]
  },
  {
   "cell_type": "code",
   "execution_count": 15,
   "metadata": {},
   "outputs": [
    {
     "name": "stdout",
     "output_type": "stream",
     "text": [
      "b'cattle'\n"
     ]
    }
   ],
   "source": [
    "n = 0\n",
    "print(dataset_meta[b'fine_label_names'][dataset_train[b'fine_labels'][n]])"
   ]
  },
  {
   "cell_type": "markdown",
   "metadata": {},
   "source": [
    "Now we know how to check labels, is there a way that we can also check file names? `dataset_train` also contains a `b'filenames'` key. Let's see what we have here:"
   ]
  },
  {
   "cell_type": "code",
   "execution_count": 16,
   "metadata": {},
   "outputs": [
    {
     "name": "stdout",
     "output_type": "stream",
     "text": [
      "b'bos_taurus_s_000507.png'\n"
     ]
    }
   ],
   "source": [
    "print(dataset_train[b'filenames'][0])"
   ]
  },
  {
   "cell_type": "markdown",
   "metadata": {},
   "source": [
    "\"Taurus\" is the name of a subspecies of cattle, so this looks like a pretty reasonable filename. To save an image we can also do:"
   ]
  },
  {
   "cell_type": "code",
   "execution_count": 17,
   "metadata": {},
   "outputs": [],
   "source": [
    "plt.imsave(\"file.png\", test_image)"
   ]
  },
  {
   "cell_type": "markdown",
   "metadata": {},
   "source": [
    "Your new PNG file should now appear in the file explorer -- go ahead and pop it open to see!\n",
    "\n",
    "Now that you know how to reshape the images, save them as files, and capture their filenames and labels, let's just capture all the bicycles and motorcycles and save them. Scones Unlimited can use a model that tells these apart to route delivery drivers automatically.\n",
    "\n",
    "In the following cell, identify the label numbers for Bicycles and Motorcycles:"
   ]
  },
  {
   "cell_type": "code",
   "execution_count": 18,
   "metadata": {},
   "outputs": [
    {
     "name": "stdout",
     "output_type": "stream",
     "text": [
      "8 48\n"
     ]
    }
   ],
   "source": [
    "import pandas as pd\n",
    "\n",
    "# Todo: Filter the dataset_train and dataset_meta objects to find the label numbers for Bicycle and Motorcycles\n",
    "label_num_bi = np.where(np.array(dataset_meta[b'fine_label_names']) == b'bicycle')[0][0]\n",
    "label_num_mo = np.where(np.array(dataset_meta[b'fine_label_names']) == b'motorcycle')[0][0]\n",
    "print(label_num_bi, label_num_mo)"
   ]
  },
  {
   "cell_type": "markdown",
   "metadata": {},
   "source": [
    "Good job! We only need objects with label 8 and 48 -- this drastically simplifies our handling of the data! Below we construct a dataframe for you, and you can safely drop the rows that don't contain observations about bicycles and motorcycles. Fill in the missing lines below to drop all other rows:"
   ]
  },
  {
   "cell_type": "code",
   "execution_count": 19,
   "metadata": {},
   "outputs": [],
   "source": [
    "#Construct the dataframe\n",
    "df_train = pd.DataFrame({\n",
    "    \"filenames\": dataset_train[b'filenames'],\n",
    "    \"labels\": dataset_train[b'fine_labels'],\n",
    "    \"row\": range(len(dataset_train[b'filenames']))\n",
    "})\n",
    "\n",
    "# Drop all rows from df_train where label is not 8 or 48\n",
    "df_train = df_train.loc[(df_train['labels'] == label_num_bi) | (df_train['labels'] == label_num_mo), :]\n",
    "\n",
    "# Decode df_train.filenames so they are regular strings\n",
    "df_train[\"filenames\"] = df_train[\"filenames\"].apply(\n",
    "    lambda x: x.decode(\"utf-8\")\n",
    ")\n",
    "\n",
    "\n",
    "df_test = pd.DataFrame({\n",
    "    \"filenames\": dataset_test[b'filenames'],\n",
    "    \"labels\": dataset_test[b'fine_labels'],\n",
    "    \"row\": range(len(dataset_test[b'filenames']))\n",
    "})\n",
    "\n",
    "# Drop all rows from df_test where label is not 8 or 48\n",
    "df_test = df_test.loc[(df_test['labels'] == label_num_bi) | (df_test['labels'] == label_num_mo), :]\n",
    "\n",
    "# Decode df_test.filenames so they are regular strings\n",
    "df_test[\"filenames\"] = df_test[\"filenames\"].apply(\n",
    "    lambda x: x.decode(\"utf-8\")\n",
    ")"
   ]
  },
  {
   "cell_type": "code",
   "execution_count": 21,
   "metadata": {},
   "outputs": [
    {
     "data": {
      "text/plain": [
       "(1000, 3)"
      ]
     },
     "execution_count": 21,
     "metadata": {},
     "output_type": "execute_result"
    }
   ],
   "source": [
    "df_train.shape"
   ]
  },
  {
   "cell_type": "code",
   "execution_count": 22,
   "metadata": {},
   "outputs": [
    {
     "data": {
      "text/plain": [
       "48    100\n",
       "8     100\n",
       "Name: labels, dtype: int64"
      ]
     },
     "execution_count": 22,
     "metadata": {},
     "output_type": "execute_result"
    }
   ],
   "source": [
    "df_test.labels.value_counts()"
   ]
  },
  {
   "cell_type": "code",
   "execution_count": 23,
   "metadata": {},
   "outputs": [
    {
     "data": {
      "text/html": [
       "<div>\n",
       "<style scoped>\n",
       "    .dataframe tbody tr th:only-of-type {\n",
       "        vertical-align: middle;\n",
       "    }\n",
       "\n",
       "    .dataframe tbody tr th {\n",
       "        vertical-align: top;\n",
       "    }\n",
       "\n",
       "    .dataframe thead th {\n",
       "        text-align: right;\n",
       "    }\n",
       "</style>\n",
       "<table border=\"1\" class=\"dataframe\">\n",
       "  <thead>\n",
       "    <tr style=\"text-align: right;\">\n",
       "      <th></th>\n",
       "      <th>filenames</th>\n",
       "      <th>labels</th>\n",
       "      <th>row</th>\n",
       "    </tr>\n",
       "  </thead>\n",
       "  <tbody>\n",
       "    <tr>\n",
       "      <th>16</th>\n",
       "      <td>bike_s_000682.png</td>\n",
       "      <td>8</td>\n",
       "      <td>16</td>\n",
       "    </tr>\n",
       "    <tr>\n",
       "      <th>30</th>\n",
       "      <td>bike_s_000127.png</td>\n",
       "      <td>8</td>\n",
       "      <td>30</td>\n",
       "    </tr>\n",
       "    <tr>\n",
       "      <th>130</th>\n",
       "      <td>cycle_s_002598.png</td>\n",
       "      <td>8</td>\n",
       "      <td>130</td>\n",
       "    </tr>\n",
       "    <tr>\n",
       "      <th>152</th>\n",
       "      <td>minibike_s_000824.png</td>\n",
       "      <td>48</td>\n",
       "      <td>152</td>\n",
       "    </tr>\n",
       "    <tr>\n",
       "      <th>195</th>\n",
       "      <td>motorcycle_s_001856.png</td>\n",
       "      <td>48</td>\n",
       "      <td>195</td>\n",
       "    </tr>\n",
       "  </tbody>\n",
       "</table>\n",
       "</div>"
      ],
      "text/plain": [
       "                   filenames  labels  row\n",
       "16         bike_s_000682.png       8   16\n",
       "30         bike_s_000127.png       8   30\n",
       "130       cycle_s_002598.png       8  130\n",
       "152    minibike_s_000824.png      48  152\n",
       "195  motorcycle_s_001856.png      48  195"
      ]
     },
     "execution_count": 23,
     "metadata": {},
     "output_type": "execute_result"
    }
   ],
   "source": [
    "df_train.head()"
   ]
  },
  {
   "cell_type": "markdown",
   "metadata": {},
   "source": [
    "Now that the data is filtered for just our classes, we can save all our images."
   ]
  },
  {
   "cell_type": "code",
   "execution_count": 20,
   "metadata": {},
   "outputs": [],
   "source": [
    "!mkdir ./train\n",
    "!mkdir ./test"
   ]
  },
  {
   "cell_type": "markdown",
   "metadata": {},
   "source": [
    "In the previous sections we introduced you to several key snippets of code:\n",
    "\n",
    "1. Grabbing the image data:\n",
    "\n",
    "```python\n",
    "dataset_train[b'data'][0]\n",
    "```\n",
    "\n",
    "2. A simple idiom for stacking the image data into the right shape\n",
    "\n",
    "```python\n",
    "import numpy as np\n",
    "np.dstack((\n",
    "    row[0:1024].reshape(32,32),\n",
    "    row[1024:2048].reshape(32,32),\n",
    "    row[2048:].reshape(32,32)\n",
    "))\n",
    "```\n",
    "\n",
    "3. A simple `matplotlib` utility for saving images\n",
    "\n",
    "```python\n",
    "plt.imsave(path+row['filenames'], target)\n",
    "```\n",
    "\n",
    "Compose these together into a function that saves all the images into the `./test` and `./train` directories. Use the comments in the body of the `save_images` function below to guide your construction of the function:\n"
   ]
  },
  {
   "cell_type": "code",
   "execution_count": 24,
   "metadata": {},
   "outputs": [],
   "source": [
    "def parse_save_image(data1D, to_path):\n",
    "    \n",
    "    # Consolidated stacking/reshaping from earlier\n",
    "    target = np.dstack((\n",
    "        data1D[0:1024].reshape(32,32),\n",
    "        data1D[1024:2048].reshape(32,32),\n",
    "        data1D[2048:].reshape(32,32)\n",
    "    ))\n",
    "    # Save the image\n",
    "    plt.imsave(to_path, target)\n",
    "    \n",
    "def save_images(data, path):\n",
    "    for i in data.index:\n",
    "        #Grab the image data in row-major form\n",
    "        row = dataset_train[b'data'][data.loc[i, 'row']]\n",
    "        parse_save_image(row, '/'.join([path, data.loc[i, 'filenames']]))\n",
    "\n",
    "## TODO: save ALL images using the save_images function\n",
    "save_images(df_train, './train')\n",
    "save_images(df_test, './test')"
   ]
  },
  {
   "cell_type": "markdown",
   "metadata": {},
   "source": [
    "### 3. Load the data\n",
    "\n",
    "Now we can load the data into S3.\n",
    "\n",
    "Using the sagemaker SDK grab the current region, execution role, and bucket."
   ]
  },
  {
   "cell_type": "code",
   "execution_count": 27,
   "metadata": {},
   "outputs": [
    {
     "name": "stdout",
     "output_type": "stream",
     "text": [
      "Default Bucket: sagemaker-studio-741682700515-7evegs5hn7\n",
      "AWS Region: us-east-1\n",
      "RoleArn: arn:aws:iam::741682700515:role/service-role/AmazonSageMaker-ExecutionRole-20220624T090784\n"
     ]
    }
   ],
   "source": [
    "import sagemaker\n",
    "\n",
    "\n",
    "bucket= \"sagemaker-studio-741682700515-7evegs5hn7\"\n",
    "print(\"Default Bucket: {}\".format(bucket))\n",
    "\n",
    "region = \"us-east-1\"\n",
    "print(\"AWS Region: {}\".format(region))\n",
    "\n",
    "role = sagemaker.get_execution_role()\n",
    "# \"arn:aws:s3:::sagemaker-studio-741682700515-7evegs5hn7\"\n",
    "print(\"RoleArn: {}\".format(role))"
   ]
  },
  {
   "cell_type": "markdown",
   "metadata": {},
   "source": [
    "With this data we can easily sync your data up into S3!"
   ]
  },
  {
   "cell_type": "code",
   "execution_count": null,
   "metadata": {},
   "outputs": [],
   "source": [
    "import os\n",
    "\n",
    "os.environ[\"DEFAULT_S3_BUCKET\"] = bucket\n",
    "!aws s3 sync ./train s3://${DEFAULT_S3_BUCKET}/train/\n",
    "!aws s3 sync ./test s3://${DEFAULT_S3_BUCKET}/test/"
   ]
  },
  {
   "cell_type": "markdown",
   "metadata": {},
   "source": [
    "And that's it! You can check the bucket and verify that the items were uploaded.\n",
    "\n",
    "## Model Training\n",
    "\n",
    "For Image Classification, Sagemaker [also expects metadata](https://docs.aws.amazon.com/sagemaker/latest/dg/image-classification.html) e.g. in the form of TSV files with labels and filepaths. We can generate these using our Pandas DataFrames from earlier:"
   ]
  },
  {
   "cell_type": "code",
   "execution_count": 25,
   "metadata": {},
   "outputs": [],
   "source": [
    "def to_metadata_file(df, prefix):\n",
    "    df[\"s3_path\"] = df[\"filenames\"]\n",
    "    df[\"labels\"] = df[\"labels\"].apply(lambda x: 0 if x==8 else 1)\n",
    "    return df[[\"row\", \"labels\", \"s3_path\"]].to_csv(\n",
    "        f\"{prefix}.lst\", sep=\"\\t\", index=False, header=False\n",
    "    )\n",
    "    \n",
    "to_metadata_file(df_train.copy(), \"train\")\n",
    "to_metadata_file(df_test.copy(), \"test\")"
   ]
  },
  {
   "cell_type": "markdown",
   "metadata": {},
   "source": [
    "We can also upload our manifest files:"
   ]
  },
  {
   "cell_type": "code",
   "execution_count": null,
   "metadata": {},
   "outputs": [],
   "source": [
    "import boto3\n",
    "\n",
    "# Upload files\n",
    "boto3.Session().resource('s3').Bucket(\n",
    "    bucket).Object('train.lst').upload_file('./train.lst')\n",
    "boto3.Session().resource('s3').Bucket(\n",
    "    bucket).Object('test.lst').upload_file('./test.lst')"
   ]
  },
  {
   "cell_type": "markdown",
   "metadata": {},
   "source": [
    "Using the `bucket` and `region` info we can get the latest prebuilt container to run our training job, and define an output location on our s3 bucket for the model. Use the `image_uris` function from the SageMaker SDK to retrieve the latest `image-classification` image below:"
   ]
  },
  {
   "cell_type": "code",
   "execution_count": 28,
   "metadata": {},
   "outputs": [
    {
     "name": "stderr",
     "output_type": "stream",
     "text": [
      "Defaulting to the only supported framework/algorithm version: 1. Ignoring framework/algorithm version: latest.\n"
     ]
    }
   ],
   "source": [
    "# Use the image_uris function to retrieve the latest 'image-classification' image \n",
    "from sagemaker import image_uris\n",
    "session = sagemaker.Session() \n",
    "algo_image = image_uris.retrieve('image-classification', session.boto_region_name, version='latest')\n",
    "s3_output_location = f\"s3://{bucket}/models/image_model\""
   ]
  },
  {
   "cell_type": "markdown",
   "metadata": {},
   "source": [
    "We're ready to create an estimator! Create an estimator `img_classifier_model` that uses one instance of `ml.p3.2xlarge`. Ensure that y ou use the output location we defined above - we'll be referring to that later!"
   ]
  },
  {
   "cell_type": "code",
   "execution_count": 29,
   "metadata": {},
   "outputs": [],
   "source": [
    "img_classifier_model=sagemaker.estimator.Estimator(\n",
    "    ## TODO: define your estimator options    \n",
    "    algo_image,\n",
    "    role,\n",
    "    instance_count=1,\n",
    "    instance_type='ml.p3.2xlarge',\n",
    "    output_path=s3_output_location,\n",
    "    sagemaker_session=session\n",
    ")"
   ]
  },
  {
   "cell_type": "markdown",
   "metadata": {},
   "source": [
    "We can also set a few key hyperparameters and define the inputs for our model:"
   ]
  },
  {
   "cell_type": "code",
   "execution_count": 30,
   "metadata": {},
   "outputs": [],
   "source": [
    "img_classifier_model.set_hyperparameters(\n",
    "    image_shape=\"3,32,32\", # TODO: Fill in\n",
    "    num_classes=2, # TODO: Fill in\n",
    "    num_training_samples=1000, # TODO: fill in\n",
    "    optimizer='adam'\n",
    ")"
   ]
  },
  {
   "cell_type": "markdown",
   "metadata": {},
   "source": [
    "The `image-classification` image uses four input channels with very specific input parameters. For convenience, we've provided them below:"
   ]
  },
  {
   "cell_type": "code",
   "execution_count": 31,
   "metadata": {},
   "outputs": [],
   "source": [
    "from sagemaker.debugger import Rule, rule_configs\n",
    "from sagemaker.session import TrainingInput\n",
    "model_inputs = {\n",
    "        \"train\": sagemaker.inputs.TrainingInput(\n",
    "            s3_data=f\"s3://{bucket}/train/\",\n",
    "            content_type=\"application/x-image\"\n",
    "        ),\n",
    "        \"validation\": sagemaker.inputs.TrainingInput(\n",
    "            s3_data=f\"s3://{bucket}/test/\",\n",
    "            content_type=\"application/x-image\"\n",
    "        ),\n",
    "        \"train_lst\": sagemaker.inputs.TrainingInput(\n",
    "            s3_data=f\"s3://{bucket}/train.lst\",\n",
    "            content_type=\"application/x-image\"\n",
    "        ),\n",
    "        \"validation_lst\": sagemaker.inputs.TrainingInput(\n",
    "            s3_data=f\"s3://{bucket}/test.lst\",\n",
    "            content_type=\"application/x-image\"\n",
    "        )\n",
    "}"
   ]
  },
  {
   "cell_type": "markdown",
   "metadata": {},
   "source": [
    "Great, now we can train the model using the model_inputs. In the cell below, call the `fit` method on our model,:"
   ]
  },
  {
   "cell_type": "code",
   "execution_count": 32,
   "metadata": {
    "collapsed": true,
    "jupyter": {
     "outputs_hidden": true
    }
   },
   "outputs": [
    {
     "name": "stdout",
     "output_type": "stream",
     "text": [
      "2022-07-14 03:56:39 Starting - Starting the training job...\n",
      "2022-07-14 03:57:04 Starting - Preparing the instances for trainingProfilerReport-1657770999: InProgress\n",
      ".........\n",
      "2022-07-14 03:58:23 Downloading - Downloading input data...\n",
      "2022-07-14 03:59:03 Training - Downloading the training image........\u001b[34mDocker entrypoint called with argument(s): train\u001b[0m\n",
      "\u001b[34m[07/14/2022 04:00:22 INFO 139727663908672] Reading default configuration from /opt/amazon/lib/python3.7/site-packages/image_classification/default-input.json: {'use_pretrained_model': 0, 'num_layers': 152, 'epochs': 30, 'learning_rate': 0.1, 'lr_scheduler_factor': 0.1, 'optimizer': 'sgd', 'momentum': 0, 'weight_decay': 0.0001, 'beta_1': 0.9, 'beta_2': 0.999, 'eps': 1e-08, 'gamma': 0.9, 'mini_batch_size': 32, 'image_shape': '3,224,224', 'precision_dtype': 'float32'}\u001b[0m\n",
      "\u001b[34m[07/14/2022 04:00:22 INFO 139727663908672] Merging with provided configuration from /opt/ml/input/config/hyperparameters.json: {'image_shape': '3,32,32', 'num_classes': '2', 'num_training_samples': '1000', 'optimizer': 'adam'}\u001b[0m\n",
      "\u001b[34m[07/14/2022 04:00:22 INFO 139727663908672] Final configuration: {'use_pretrained_model': 0, 'num_layers': 152, 'epochs': 30, 'learning_rate': 0.1, 'lr_scheduler_factor': 0.1, 'optimizer': 'adam', 'momentum': 0, 'weight_decay': 0.0001, 'beta_1': 0.9, 'beta_2': 0.999, 'eps': 1e-08, 'gamma': 0.9, 'mini_batch_size': 32, 'image_shape': '3,32,32', 'precision_dtype': 'float32', 'num_classes': '2', 'num_training_samples': '1000'}\u001b[0m\n",
      "\u001b[34m[07/14/2022 04:00:22 INFO 139727663908672] Searching for .lst files in /opt/ml/input/data/train_lst.\u001b[0m\n",
      "\u001b[34m[07/14/2022 04:00:22 INFO 139727663908672] Creating record files for train.lst\u001b[0m\n",
      "\u001b[34m[07/14/2022 04:00:22 INFO 139727663908672] Done creating record files...\u001b[0m\n",
      "\u001b[34m[07/14/2022 04:00:22 INFO 139727663908672] Searching for .lst files in /opt/ml/input/data/validation_lst.\u001b[0m\n",
      "\u001b[34m[07/14/2022 04:00:22 INFO 139727663908672] Creating record files for test.lst\u001b[0m\n",
      "\u001b[34m[07/14/2022 04:00:22 INFO 139727663908672] Done creating record files...\u001b[0m\n",
      "\u001b[34m[07/14/2022 04:00:22 INFO 139727663908672] use_pretrained_model: 0\u001b[0m\n",
      "\u001b[34m[07/14/2022 04:00:22 INFO 139727663908672] multi_label: 0\u001b[0m\n",
      "\u001b[34m[07/14/2022 04:00:22 INFO 139727663908672] Performing random weight initialization\u001b[0m\n",
      "\u001b[34m[07/14/2022 04:00:22 INFO 139727663908672] ---- Parameters ----\u001b[0m\n",
      "\u001b[34m[07/14/2022 04:00:22 INFO 139727663908672] num_layers: 152\u001b[0m\n",
      "\u001b[34m[07/14/2022 04:00:22 INFO 139727663908672] data type: <class 'numpy.float32'>\u001b[0m\n",
      "\u001b[34m[07/14/2022 04:00:22 INFO 139727663908672] epochs: 30\u001b[0m\n",
      "\u001b[34m[07/14/2022 04:00:22 INFO 139727663908672] optimizer: adam\u001b[0m\n",
      "\u001b[34m[07/14/2022 04:00:22 INFO 139727663908672] beta_1: 0.9\u001b[0m\n",
      "\u001b[34m[07/14/2022 04:00:22 INFO 139727663908672] beta_2: 0.999\u001b[0m\n",
      "\u001b[34m[07/14/2022 04:00:22 INFO 139727663908672] eps: 1e-08\u001b[0m\n",
      "\u001b[34m[07/14/2022 04:00:22 INFO 139727663908672] learning_rate: 0.1\u001b[0m\n",
      "\u001b[34m[07/14/2022 04:00:22 INFO 139727663908672] num_training_samples: 1000\u001b[0m\n",
      "\u001b[34m[07/14/2022 04:00:22 INFO 139727663908672] mini_batch_size: 32\u001b[0m\n",
      "\u001b[34m[07/14/2022 04:00:22 INFO 139727663908672] image_shape: 3,32,32\u001b[0m\n",
      "\u001b[34m[07/14/2022 04:00:22 INFO 139727663908672] num_classes: 2\u001b[0m\n",
      "\u001b[34m[07/14/2022 04:00:22 INFO 139727663908672] augmentation_type: None\u001b[0m\n",
      "\u001b[34m[07/14/2022 04:00:22 INFO 139727663908672] kv_store: device\u001b[0m\n",
      "\u001b[34m[07/14/2022 04:00:22 INFO 139727663908672] checkpoint_frequency not set, will store the best model\u001b[0m\n",
      "\u001b[34m[07/14/2022 04:00:22 INFO 139727663908672] --------------------\u001b[0m\n",
      "\u001b[34m[07/14/2022 04:00:22 INFO 139727663908672] Setting number of threads: 7\u001b[0m\n",
      "\n",
      "2022-07-14 04:00:24 Training - Training image download completed. Training in progress.\u001b[34m[04:00:31] /opt/brazil-pkg-cache/packages/AIAlgorithmsMXNet/AIAlgorithmsMXNet-1.3.x_ecl_Cuda_10.1.x.11282.0/AL2_x86_64/generic-flavor/src/src/operator/nn/./cudnn/./cudnn_algoreg-inl.h:97: Running performance tests to find the best convolution algorithm, this can take a while... (setting env variable MXNET_CUDNN_AUTOTUNE_DEFAULT to 0 to disable)\u001b[0m\n",
      "\u001b[34m[07/14/2022 04:00:36 INFO 139727663908672] Epoch[0] Batch [20]#011Speed: 121.313 samples/sec#011accuracy=0.538690\u001b[0m\n",
      "\u001b[34m[07/14/2022 04:00:38 INFO 139727663908672] Epoch[0] Train-accuracy=0.537298\u001b[0m\n",
      "\u001b[34m[07/14/2022 04:00:38 INFO 139727663908672] Epoch[0] Time cost=6.579\u001b[0m\n",
      "\u001b[34m[07/14/2022 04:00:38 INFO 139727663908672] Epoch[0] Validation-accuracy=0.479167\u001b[0m\n",
      "\u001b[34m[07/14/2022 04:00:38 INFO 139727663908672] Storing the best model with validation accuracy: 0.479167\u001b[0m\n",
      "\u001b[34m[07/14/2022 04:00:39 INFO 139727663908672] Saved checkpoint to \"/opt/ml/model/image-classification-0001.params\"\u001b[0m\n",
      "\u001b[34m[07/14/2022 04:00:41 INFO 139727663908672] Epoch[1] Batch [20]#011Speed: 234.033 samples/sec#011accuracy=0.623512\u001b[0m\n",
      "\u001b[34m[07/14/2022 04:00:43 INFO 139727663908672] Epoch[1] Train-accuracy=0.630040\u001b[0m\n",
      "\u001b[34m[07/14/2022 04:00:43 INFO 139727663908672] Epoch[1] Time cost=4.119\u001b[0m\n",
      "\u001b[34m[07/14/2022 04:00:43 INFO 139727663908672] Epoch[1] Validation-accuracy=0.468750\u001b[0m\n",
      "\u001b[34m[07/14/2022 04:00:46 INFO 139727663908672] Epoch[2] Batch [20]#011Speed: 238.237 samples/sec#011accuracy=0.718750\u001b[0m\n",
      "\u001b[34m[07/14/2022 04:00:48 INFO 139727663908672] Epoch[2] Train-accuracy=0.694556\u001b[0m\n",
      "\u001b[34m[07/14/2022 04:00:48 INFO 139727663908672] Epoch[2] Time cost=4.008\u001b[0m\n",
      "\u001b[34m[07/14/2022 04:00:48 INFO 139727663908672] Epoch[2] Validation-accuracy=0.479167\u001b[0m\n",
      "\u001b[34m[07/14/2022 04:00:51 INFO 139727663908672] Epoch[3] Batch [20]#011Speed: 239.071 samples/sec#011accuracy=0.755952\u001b[0m\n",
      "\u001b[34m[07/14/2022 04:00:52 INFO 139727663908672] Epoch[3] Train-accuracy=0.764113\u001b[0m\n",
      "\u001b[34m[07/14/2022 04:00:52 INFO 139727663908672] Epoch[3] Time cost=3.974\u001b[0m\n",
      "\u001b[34m[07/14/2022 04:00:53 INFO 139727663908672] Epoch[3] Validation-accuracy=0.540179\u001b[0m\n",
      "\u001b[34m[07/14/2022 04:00:53 INFO 139727663908672] Storing the best model with validation accuracy: 0.540179\u001b[0m\n",
      "\u001b[34m[07/14/2022 04:00:53 INFO 139727663908672] Saved checkpoint to \"/opt/ml/model/image-classification-0004.params\"\u001b[0m\n",
      "\u001b[34m[07/14/2022 04:00:56 INFO 139727663908672] Epoch[4] Batch [20]#011Speed: 238.713 samples/sec#011accuracy=0.764881\u001b[0m\n",
      "\u001b[34m[07/14/2022 04:00:57 INFO 139727663908672] Epoch[4] Train-accuracy=0.758065\u001b[0m\n",
      "\u001b[34m[07/14/2022 04:00:57 INFO 139727663908672] Epoch[4] Time cost=4.010\u001b[0m\n",
      "\u001b[34m[07/14/2022 04:00:58 INFO 139727663908672] Epoch[4] Validation-accuracy=0.510417\u001b[0m\n",
      "\u001b[34m[07/14/2022 04:01:01 INFO 139727663908672] Epoch[5] Batch [20]#011Speed: 241.008 samples/sec#011accuracy=0.793155\u001b[0m\n",
      "\u001b[34m[07/14/2022 04:01:02 INFO 139727663908672] Epoch[5] Train-accuracy=0.790323\u001b[0m\n",
      "\u001b[34m[07/14/2022 04:01:02 INFO 139727663908672] Epoch[5] Time cost=3.994\u001b[0m\n",
      "\u001b[34m[07/14/2022 04:01:03 INFO 139727663908672] Epoch[5] Validation-accuracy=0.479167\u001b[0m\n",
      "\u001b[34m[07/14/2022 04:01:06 INFO 139727663908672] Epoch[6] Batch [20]#011Speed: 230.517 samples/sec#011accuracy=0.818452\u001b[0m\n",
      "\u001b[34m[07/14/2022 04:01:07 INFO 139727663908672] Epoch[6] Train-accuracy=0.799395\u001b[0m\n",
      "\u001b[34m[07/14/2022 04:01:07 INFO 139727663908672] Epoch[6] Time cost=4.156\u001b[0m\n",
      "\u001b[34m[07/14/2022 04:01:08 INFO 139727663908672] Epoch[6] Validation-accuracy=0.505208\u001b[0m\n",
      "\u001b[34m[07/14/2022 04:01:11 INFO 139727663908672] Epoch[7] Batch [20]#011Speed: 236.530 samples/sec#011accuracy=0.809524\u001b[0m\n",
      "\u001b[34m[07/14/2022 04:01:12 INFO 139727663908672] Epoch[7] Train-accuracy=0.814516\u001b[0m\n",
      "\u001b[34m[07/14/2022 04:01:12 INFO 139727663908672] Epoch[7] Time cost=4.037\u001b[0m\n",
      "\u001b[34m[07/14/2022 04:01:13 INFO 139727663908672] Epoch[7] Validation-accuracy=0.513393\u001b[0m\n",
      "\u001b[34m[07/14/2022 04:01:16 INFO 139727663908672] Epoch[8] Batch [20]#011Speed: 237.956 samples/sec#011accuracy=0.797619\u001b[0m\n",
      "\u001b[34m[07/14/2022 04:01:17 INFO 139727663908672] Epoch[8] Train-accuracy=0.800403\u001b[0m\n",
      "\u001b[34m[07/14/2022 04:01:17 INFO 139727663908672] Epoch[8] Time cost=4.001\u001b[0m\n",
      "\u001b[34m[07/14/2022 04:01:17 INFO 139727663908672] Epoch[8] Validation-accuracy=0.515625\u001b[0m\n",
      "\u001b[34m[07/14/2022 04:01:21 INFO 139727663908672] Epoch[9] Batch [20]#011Speed: 239.954 samples/sec#011accuracy=0.806548\u001b[0m\n",
      "\u001b[34m[07/14/2022 04:01:22 INFO 139727663908672] Epoch[9] Train-accuracy=0.812500\u001b[0m\n",
      "\u001b[34m[07/14/2022 04:01:22 INFO 139727663908672] Epoch[9] Time cost=3.991\u001b[0m\n",
      "\u001b[34m[07/14/2022 04:01:22 INFO 139727663908672] Epoch[9] Validation-accuracy=0.489583\u001b[0m\n",
      "\u001b[34m[07/14/2022 04:01:25 INFO 139727663908672] Epoch[10] Batch [20]#011Speed: 238.532 samples/sec#011accuracy=0.821429\u001b[0m\n",
      "\u001b[34m[07/14/2022 04:01:27 INFO 139727663908672] Epoch[10] Train-accuracy=0.817540\u001b[0m\n",
      "\u001b[34m[07/14/2022 04:01:27 INFO 139727663908672] Epoch[10] Time cost=4.023\u001b[0m\n",
      "\u001b[34m[07/14/2022 04:01:27 INFO 139727663908672] Epoch[10] Validation-accuracy=0.468750\u001b[0m\n",
      "\u001b[34m[07/14/2022 04:01:30 INFO 139727663908672] Epoch[11] Batch [20]#011Speed: 238.445 samples/sec#011accuracy=0.800595\u001b[0m\n",
      "\u001b[34m[07/14/2022 04:01:32 INFO 139727663908672] Epoch[11] Train-accuracy=0.805444\u001b[0m\n",
      "\u001b[34m[07/14/2022 04:01:32 INFO 139727663908672] Epoch[11] Time cost=3.982\u001b[0m\n",
      "\u001b[34m[07/14/2022 04:01:32 INFO 139727663908672] Epoch[11] Validation-accuracy=0.549107\u001b[0m\n",
      "\u001b[34m[07/14/2022 04:01:32 INFO 139727663908672] Storing the best model with validation accuracy: 0.549107\u001b[0m\n",
      "\u001b[34m[07/14/2022 04:01:33 INFO 139727663908672] Saved checkpoint to \"/opt/ml/model/image-classification-0012.params\"\u001b[0m\n",
      "\u001b[34m[07/14/2022 04:01:35 INFO 139727663908672] Epoch[12] Batch [20]#011Speed: 237.794 samples/sec#011accuracy=0.852679\u001b[0m\n",
      "\u001b[34m[07/14/2022 04:01:37 INFO 139727663908672] Epoch[12] Train-accuracy=0.841734\u001b[0m\n",
      "\u001b[34m[07/14/2022 04:01:37 INFO 139727663908672] Epoch[12] Time cost=4.007\u001b[0m\n",
      "\u001b[34m[07/14/2022 04:01:37 INFO 139727663908672] Epoch[12] Validation-accuracy=0.515625\u001b[0m\n",
      "\u001b[34m[07/14/2022 04:01:40 INFO 139727663908672] Epoch[13] Batch [20]#011Speed: 239.978 samples/sec#011accuracy=0.824405\u001b[0m\n",
      "\u001b[34m[07/14/2022 04:01:41 INFO 139727663908672] Epoch[13] Train-accuracy=0.834677\u001b[0m\n",
      "\u001b[34m[07/14/2022 04:01:41 INFO 139727663908672] Epoch[13] Time cost=3.980\u001b[0m\n",
      "\u001b[34m[07/14/2022 04:01:42 INFO 139727663908672] Epoch[13] Validation-accuracy=0.536458\u001b[0m\n",
      "\u001b[34m[07/14/2022 04:01:45 INFO 139727663908672] Epoch[14] Batch [20]#011Speed: 238.876 samples/sec#011accuracy=0.808036\u001b[0m\n",
      "\u001b[34m[07/14/2022 04:01:46 INFO 139727663908672] Epoch[14] Train-accuracy=0.821573\u001b[0m\n",
      "\u001b[34m[07/14/2022 04:01:46 INFO 139727663908672] Epoch[14] Time cost=3.984\u001b[0m\n",
      "\u001b[34m[07/14/2022 04:01:47 INFO 139727663908672] Epoch[14] Validation-accuracy=0.515625\u001b[0m\n",
      "\u001b[34m[07/14/2022 04:01:50 INFO 139727663908672] Epoch[15] Batch [20]#011Speed: 239.982 samples/sec#011accuracy=0.863095\u001b[0m\n",
      "\u001b[34m[07/14/2022 04:01:51 INFO 139727663908672] Epoch[15] Train-accuracy=0.854839\u001b[0m\n",
      "\u001b[34m[07/14/2022 04:01:51 INFO 139727663908672] Epoch[15] Time cost=3.959\u001b[0m\n",
      "\u001b[34m[07/14/2022 04:01:51 INFO 139727663908672] Epoch[15] Validation-accuracy=0.526786\u001b[0m\n",
      "\u001b[34m[07/14/2022 04:01:55 INFO 139727663908672] Epoch[16] Batch [20]#011Speed: 238.085 samples/sec#011accuracy=0.883929\u001b[0m\n",
      "\u001b[34m[07/14/2022 04:01:56 INFO 139727663908672] Epoch[16] Train-accuracy=0.853831\u001b[0m\n",
      "\u001b[34m[07/14/2022 04:01:56 INFO 139727663908672] Epoch[16] Time cost=4.008\u001b[0m\n",
      "\u001b[34m[07/14/2022 04:01:56 INFO 139727663908672] Epoch[16] Validation-accuracy=0.557292\u001b[0m\n",
      "\u001b[34m[07/14/2022 04:01:57 INFO 139727663908672] Storing the best model with validation accuracy: 0.557292\u001b[0m\n",
      "\u001b[34m[07/14/2022 04:01:57 INFO 139727663908672] Saved checkpoint to \"/opt/ml/model/image-classification-0017.params\"\u001b[0m\n",
      "\u001b[34m[07/14/2022 04:02:00 INFO 139727663908672] Epoch[17] Batch [20]#011Speed: 239.471 samples/sec#011accuracy=0.836310\u001b[0m\n",
      "\u001b[34m[07/14/2022 04:02:01 INFO 139727663908672] Epoch[17] Train-accuracy=0.836694\u001b[0m\n",
      "\u001b[34m[07/14/2022 04:02:01 INFO 139727663908672] Epoch[17] Time cost=3.978\u001b[0m\n",
      "\u001b[34m[07/14/2022 04:02:01 INFO 139727663908672] Epoch[17] Validation-accuracy=0.515625\u001b[0m\n",
      "\u001b[34m[07/14/2022 04:02:05 INFO 139727663908672] Epoch[18] Batch [20]#011Speed: 232.181 samples/sec#011accuracy=0.816964\u001b[0m\n",
      "\u001b[34m[07/14/2022 04:02:06 INFO 139727663908672] Epoch[18] Train-accuracy=0.825605\u001b[0m\n",
      "\u001b[34m[07/14/2022 04:02:06 INFO 139727663908672] Epoch[18] Time cost=4.093\u001b[0m\n",
      "\u001b[34m[07/14/2022 04:02:06 INFO 139727663908672] Epoch[18] Validation-accuracy=0.489583\u001b[0m\n",
      "\u001b[34m[07/14/2022 04:02:10 INFO 139727663908672] Epoch[19] Batch [20]#011Speed: 240.818 samples/sec#011accuracy=0.848214\u001b[0m\n",
      "\u001b[34m[07/14/2022 04:02:11 INFO 139727663908672] Epoch[19] Train-accuracy=0.839718\u001b[0m\n",
      "\u001b[34m[07/14/2022 04:02:11 INFO 139727663908672] Epoch[19] Time cost=3.960\u001b[0m\n",
      "\u001b[34m[07/14/2022 04:02:11 INFO 139727663908672] Epoch[19] Validation-accuracy=0.580357\u001b[0m\n",
      "\u001b[34m[07/14/2022 04:02:12 INFO 139727663908672] Storing the best model with validation accuracy: 0.580357\u001b[0m\n",
      "\u001b[34m[07/14/2022 04:02:12 INFO 139727663908672] Saved checkpoint to \"/opt/ml/model/image-classification-0020.params\"\u001b[0m\n",
      "\u001b[34m[07/14/2022 04:02:15 INFO 139727663908672] Epoch[20] Batch [20]#011Speed: 235.210 samples/sec#011accuracy=0.876488\u001b[0m\n",
      "\u001b[34m[07/14/2022 04:02:16 INFO 139727663908672] Epoch[20] Train-accuracy=0.877016\u001b[0m\n",
      "\u001b[34m[07/14/2022 04:02:16 INFO 139727663908672] Epoch[20] Time cost=4.046\u001b[0m\n",
      "\u001b[34m[07/14/2022 04:02:16 INFO 139727663908672] Epoch[20] Validation-accuracy=0.557292\u001b[0m\n",
      "\u001b[34m[07/14/2022 04:02:20 INFO 139727663908672] Epoch[21] Batch [20]#011Speed: 239.109 samples/sec#011accuracy=0.849702\u001b[0m\n",
      "\u001b[34m[07/14/2022 04:02:21 INFO 139727663908672] Epoch[21] Train-accuracy=0.855847\u001b[0m\n",
      "\u001b[34m[07/14/2022 04:02:21 INFO 139727663908672] Epoch[21] Time cost=4.010\u001b[0m\n",
      "\u001b[34m[07/14/2022 04:02:21 INFO 139727663908672] Epoch[21] Validation-accuracy=0.536458\u001b[0m\n",
      "\u001b[34m[07/14/2022 04:02:25 INFO 139727663908672] Epoch[22] Batch [20]#011Speed: 236.940 samples/sec#011accuracy=0.864583\u001b[0m\n",
      "\u001b[34m[07/14/2022 04:02:26 INFO 139727663908672] Epoch[22] Train-accuracy=0.850806\u001b[0m\n",
      "\u001b[34m[07/14/2022 04:02:26 INFO 139727663908672] Epoch[22] Time cost=4.039\u001b[0m\n",
      "\u001b[34m[07/14/2022 04:02:26 INFO 139727663908672] Epoch[22] Validation-accuracy=0.515625\u001b[0m\n",
      "\u001b[34m[07/14/2022 04:02:30 INFO 139727663908672] Epoch[23] Batch [20]#011Speed: 240.884 samples/sec#011accuracy=0.891369\u001b[0m\n",
      "\u001b[34m[07/14/2022 04:02:31 INFO 139727663908672] Epoch[23] Train-accuracy=0.884073\u001b[0m\n",
      "\u001b[34m[07/14/2022 04:02:31 INFO 139727663908672] Epoch[23] Time cost=3.957\u001b[0m\n",
      "\u001b[34m[07/14/2022 04:02:31 INFO 139727663908672] Epoch[23] Validation-accuracy=0.558036\u001b[0m\n",
      "\u001b[34m[07/14/2022 04:02:35 INFO 139727663908672] Epoch[24] Batch [20]#011Speed: 237.541 samples/sec#011accuracy=0.880952\u001b[0m\n",
      "\u001b[34m[07/14/2022 04:02:36 INFO 139727663908672] Epoch[24] Train-accuracy=0.877016\u001b[0m\n",
      "\u001b[34m[07/14/2022 04:02:36 INFO 139727663908672] Epoch[24] Time cost=4.017\u001b[0m\n",
      "\u001b[34m[07/14/2022 04:02:36 INFO 139727663908672] Epoch[24] Validation-accuracy=0.500000\u001b[0m\n",
      "\u001b[34m[07/14/2022 04:02:39 INFO 139727663908672] Epoch[25] Batch [20]#011Speed: 238.881 samples/sec#011accuracy=0.854167\u001b[0m\n",
      "\u001b[34m[07/14/2022 04:02:41 INFO 139727663908672] Epoch[25] Train-accuracy=0.857863\u001b[0m\n",
      "\u001b[34m[07/14/2022 04:02:41 INFO 139727663908672] Epoch[25] Time cost=3.986\u001b[0m\n",
      "\u001b[34m[07/14/2022 04:02:41 INFO 139727663908672] Epoch[25] Validation-accuracy=0.546875\u001b[0m\n",
      "\u001b[34m[07/14/2022 04:02:44 INFO 139727663908672] Epoch[26] Batch [20]#011Speed: 240.572 samples/sec#011accuracy=0.860119\u001b[0m\n",
      "\u001b[34m[07/14/2022 04:02:46 INFO 139727663908672] Epoch[26] Train-accuracy=0.860887\u001b[0m\n",
      "\u001b[34m[07/14/2022 04:02:46 INFO 139727663908672] Epoch[26] Time cost=3.968\u001b[0m\n",
      "\u001b[34m[07/14/2022 04:02:46 INFO 139727663908672] Epoch[26] Validation-accuracy=0.515625\u001b[0m\n",
      "\u001b[34m[07/14/2022 04:02:50 INFO 139727663908672] Epoch[27] Batch [20]#011Speed: 237.270 samples/sec#011accuracy=0.912202\u001b[0m\n",
      "\u001b[34m[07/14/2022 04:02:51 INFO 139727663908672] Epoch[27] Train-accuracy=0.895161\u001b[0m\n",
      "\u001b[34m[07/14/2022 04:02:51 INFO 139727663908672] Epoch[27] Time cost=4.027\u001b[0m\n",
      "\u001b[34m[07/14/2022 04:02:52 INFO 139727663908672] Epoch[27] Validation-accuracy=0.549107\u001b[0m\n",
      "\u001b[34m[07/14/2022 04:02:55 INFO 139727663908672] Epoch[28] Batch [20]#011Speed: 234.937 samples/sec#011accuracy=0.877976\u001b[0m\n",
      "\u001b[34m[07/14/2022 04:02:56 INFO 139727663908672] Epoch[28] Train-accuracy=0.883065\u001b[0m\n",
      "\u001b[34m[07/14/2022 04:02:56 INFO 139727663908672] Epoch[28] Time cost=4.033\u001b[0m\n",
      "\u001b[34m[07/14/2022 04:02:56 INFO 139727663908672] Epoch[28] Validation-accuracy=0.505208\u001b[0m\n",
      "\u001b[34m[07/14/2022 04:03:00 INFO 139727663908672] Epoch[29] Batch [20]#011Speed: 239.765 samples/sec#011accuracy=0.925595\u001b[0m\n",
      "\n",
      "2022-07-14 04:03:10 Uploading - Uploading generated training model\u001b[34m[07/14/2022 04:03:01 INFO 139727663908672] Epoch[29] Train-accuracy=0.926411\u001b[0m\n",
      "\u001b[34m[07/14/2022 04:03:01 INFO 139727663908672] Epoch[29] Time cost=3.984\u001b[0m\n",
      "\u001b[34m[07/14/2022 04:03:01 INFO 139727663908672] Epoch[29] Validation-accuracy=0.479167\u001b[0m\n",
      "\n",
      "2022-07-14 04:04:05 Completed - Training job completed\n",
      "ProfilerReport-1657770999: NoIssuesFound\n",
      "Training seconds: 327\n",
      "Billable seconds: 327\n"
     ]
    }
   ],
   "source": [
    "## TODO: train your model\n",
    "img_classifier_model.fit(model_inputs)"
   ]
  },
  {
   "cell_type": "markdown",
   "metadata": {},
   "source": [
    "If all goes well, you'll end up with a model topping out above `.8` validation accuracy. With only 1000 training samples in the CIFAR dataset, that's pretty good. We could definitely pursue data augmentation & gathering more samples to help us improve further, but for now let's proceed to deploy our model.\n",
    "\n",
    "### Getting ready to deploy\n",
    "\n",
    "To begin with, let's configure Model Monitor to track our deployment. We'll define a `DataCaptureConfig` below:"
   ]
  },
  {
   "cell_type": "code",
   "execution_count": 71,
   "metadata": {},
   "outputs": [],
   "source": [
    "from sagemaker.model_monitor import DataCaptureConfig\n",
    "\n",
    "data_capture_config = DataCaptureConfig(\n",
    "    ## TODO: Set config options\n",
    "    enable_capture=True,\n",
    "    sampling_percentage=100,\n",
    "    destination_s3_uri=f\"s3://{bucket}/data_capture\"\n",
    ")"
   ]
  },
  {
   "cell_type": "markdown",
   "metadata": {},
   "source": [
    "Note the `destination_s3_uri` parameter: At the end of the project, we can explore the `data_capture` directory in S3 to find crucial data about the inputs and outputs Model Monitor has observed on our model endpoint over time.\n",
    "\n",
    "With that done, deploy your model on a single `ml.m5.xlarge` instance with the data capture config attached:"
   ]
  },
  {
   "cell_type": "code",
   "execution_count": null,
   "metadata": {},
   "outputs": [],
   "source": [
    "deployment = img_classifier_model.deploy(\n",
    "    ## TODO: fill in deployment options\n",
    "    initial_instance_count=1, \n",
    "    instance_type=\"ml.m5.xlarge\",\n",
    "    data_capture_config=data_capture_config\n",
    "    )\n",
    "\n",
    "endpoint = deployment.endpoint_name\n",
    "print(endpoint)"
   ]
  },
  {
   "cell_type": "markdown",
   "metadata": {},
   "source": [
    "Note the endpoint name for later as well.\n",
    "\n",
    "Next, instantiate a Predictor:"
   ]
  },
  {
   "cell_type": "code",
   "execution_count": 35,
   "metadata": {},
   "outputs": [],
   "source": [
    "from sagemaker.predictor import Predictor\n",
    "predictor = Predictor(endpoint) #image-classification-2022-07-14-02-35-01-242\") ## TODO: fill in"
   ]
  },
  {
   "cell_type": "markdown",
   "metadata": {},
   "source": [
    "In the code snippet below we are going to prepare one of your saved images for prediction. Use the predictor to process the `payload`."
   ]
  },
  {
   "cell_type": "code",
   "execution_count": 36,
   "metadata": {},
   "outputs": [],
   "source": [
    "from sagemaker.serializers import IdentitySerializer\n",
    "import base64\n",
    "\n",
    "predictor.serializer = IdentitySerializer(\"image/png\")\n",
    "with open(\"./test/bicycle_s_001789.png\", \"rb\") as f:\n",
    "    payload = f.read()\n",
    "\n",
    "import json\n",
    "inference = predictor.predict(payload) ## TODO: Process the payload with your predictor"
   ]
  },
  {
   "cell_type": "markdown",
   "metadata": {},
   "source": [
    "Your `inference` object is an array of two values, the predicted probability value for each of your classes (bicycle and motorcycle respectively.) So, for example, a value of `b'[0.91, 0.09]'` indicates the probability of being a bike is 91% and being a motorcycle is 9%."
   ]
  },
  {
   "cell_type": "code",
   "execution_count": 37,
   "metadata": {},
   "outputs": [
    {
     "name": "stdout",
     "output_type": "stream",
     "text": [
      "b'[0.5770977139472961, 0.42290225625038147]'\n"
     ]
    }
   ],
   "source": [
    "print(inference)"
   ]
  },
  {
   "cell_type": "markdown",
   "metadata": {},
   "source": [
    "### Draft Lambdas and Step Function Workflow\n",
    "\n",
    "Your operations team uses Step Functions to orchestrate serverless workflows. One of the nice things about Step Functions is that [workflows can call other workflows](https://docs.aws.amazon.com/step-functions/latest/dg/connect-stepfunctions.html), so the team can easily plug your workflow into the broader production architecture for Scones Unlimited.\n",
    "\n",
    "In this next stage you're going to write and deploy three Lambda functions, and then use the Step Functions visual editor to chain them together! Our functions are going to work with a simple data object:\n",
    "\n",
    "```python\n",
    "{\n",
    "    \"inferences\": [], # Output of predictor.predict\n",
    "    \"s3_key\": \"\", # Source data S3 key\n",
    "    \"s3_bucket\": \"\", # Source data S3 bucket\n",
    "    \"image_data\": \"\"  # base64 encoded string containing the image data\n",
    "}\n",
    "```\n",
    "\n",
    "A good test object that you can use for Lambda tests and Step Function executions, throughout the next section, might look like this:\n",
    "\n",
    "```python\n",
    "{\n",
    "  \"image_data\": \"\",\n",
    "  \"s3_bucket\": MY_BUCKET_NAME, # Fill in with your bucket\n",
    "  \"s3_key\": \"test/bicycle_s_000513.png\"\n",
    "}\n",
    "```\n",
    "\n",
    "Using these fields, your functions can read and write the necessary data to execute your workflow. Let's start with the first function. Your first Lambda function will copy an object from S3, base64 encode it, and then return it to the step function as `image_data` in an event.\n",
    "\n",
    "Go to the Lambda dashboard and create a new Lambda function with a descriptive name like \"serializeImageData\" and select thr 'Python 3.8' runtime. Add the same permissions as the SageMaker role you created earlier. (Reminder: you do this in the Configuration tab under \"Permissions\"). Once you're ready, use the starter code below to craft your Lambda handler:\n",
    "\n",
    "```python\n",
    "import json\n",
    "import boto3\n",
    "import base64\n",
    "\n",
    "s3 = boto3.client('s3')\n",
    "\n",
    "def lambda_handler(event, context):\n",
    "    \"\"\"A function to serialize target data from S3\"\"\"\n",
    "    \n",
    "    # Get the s3 address from the Step Function event input\n",
    "    key = ## TODO: fill in\n",
    "    bucket = ## TODO: fill in\n",
    "    \n",
    "    # Download the data from s3 to /tmp/image.png\n",
    "    ## TODO: fill in\n",
    "    \n",
    "    # We read the data from a file\n",
    "    with open(\"/tmp/image.png\", \"rb\") as f:\n",
    "        image_data = base64.b64encode(f.read())\n",
    "\n",
    "    # Pass the data back to the Step Function\n",
    "    print(\"Event:\", event.keys())\n",
    "    return {\n",
    "        'statusCode': 200,\n",
    "        'body': {\n",
    "            \"image_data\": image_data,\n",
    "            \"s3_bucket\": bucket,\n",
    "            \"s3_key\": key,\n",
    "            \"inferences\": []\n",
    "        }\n",
    "    }\n",
    "```\n",
    "\n",
    "The next function is responsible for the classification part - we're going to take the image output from the previous function, decode it, and then pass inferences back to the the Step Function.\n",
    "\n",
    "Because this Lambda will have runtime dependencies (i.e. the SageMaker SDK) you'll need to package them in your function. *Key reading:* https://docs.aws.amazon.com/lambda/latest/dg/python-package-create.html#python-package-create-with-dependency\n",
    "\n",
    "Create a new Lambda function with the same rights and a descriptive name, then fill in the starter code below for your classifier Lambda.\n",
    "\n",
    "```python\n",
    "import json\n",
    "import sagemaker\n",
    "import base64\n",
    "from sagemaker.serializers import IdentitySerializer\n",
    "\n",
    "# Fill this in with the name of your deployed model\n",
    "ENDPOINT = ## TODO: fill in\n",
    "\n",
    "def lambda_handler(event, context):\n",
    "\n",
    "    # Decode the image data\n",
    "    image = base64.b64decode(## TODO: fill in)\n",
    "\n",
    "    # Instantiate a Predictor\n",
    "    predictor = ## TODO: fill in\n",
    "\n",
    "    # For this model the IdentitySerializer needs to be \"image/png\"\n",
    "    predictor.serializer = IdentitySerializer(\"image/png\")\n",
    "    \n",
    "    # Make a prediction:\n",
    "    inferences = ## TODO: fill in\n",
    "    \n",
    "    # We return the data back to the Step Function    \n",
    "    event[\"inferences\"] = inferences.decode('utf-8')\n",
    "    return {\n",
    "        'statusCode': 200,\n",
    "        'body': json.dumps(event)\n",
    "    }\n",
    "```\n",
    "\n",
    "Finally, we need to filter low-confidence inferences. Define a threshold between 1.00 and 0.000 for your model: what is reasonble for you? If the model predicts at `.70` for it's highest confidence label, do we want to pass that inference along to downstream systems? Make one last Lambda function and tee up the same permissions:\n",
    "\n",
    "```python\n",
    "import json\n",
    "\n",
    "\n",
    "THRESHOLD = .93\n",
    "\n",
    "\n",
    "def lambda_handler(event, context):\n",
    "    \n",
    "    # Grab the inferences from the event\n",
    "    inferences = ## TODO: fill in\n",
    "    \n",
    "    # Check if any values in our inferences are above THRESHOLD\n",
    "    meets_threshold = ## TODO: fill in\n",
    "    \n",
    "    # If our threshold is met, pass our data back out of the\n",
    "    # Step Function, else, end the Step Function with an error\n",
    "    if meets_threshold:\n",
    "        pass\n",
    "    else:\n",
    "        raise(\"THRESHOLD_CONFIDENCE_NOT_MET\")\n",
    "\n",
    "    return {\n",
    "        'statusCode': 200,\n",
    "        'body': json.dumps(event)\n",
    "    }\n",
    "```\n",
    "Once you have tested the lambda functions, save the code for each lambda function in a python script called 'lambda.py'.\n",
    "\n",
    "With your lambdas in place, you can use the Step Functions visual editor to construct a workflow that chains them together. In the Step Functions console you'll have the option to author a Standard step function *Visually*.\n",
    "\n",
    "When the visual editor opens, you'll have many options to add transitions in your workflow. We're going to keep it simple and have just one: to invoke Lambda functions. Add three of them chained together. For each one, you'll be able to select the Lambda functions you just created in the proper order, filter inputs and outputs, and give them descriptive names.\n",
    "\n",
    "Make sure that you:\n",
    "\n",
    "1. Are properly filtering the inputs and outputs of your invokations (e.g. `$.body`)\n",
    "2. Take care to remove the error handling from the last function - it's supposed to \"fail loudly\" for your operations colleagues!\n",
    "\n",
    "Take a screenshot of your working step function in action and export the step function as JSON for your submission package."
   ]
  },
  {
   "cell_type": "code",
   "execution_count": 128,
   "metadata": {},
   "outputs": [
    {
     "name": "stdout",
     "output_type": "stream",
     "text": [
      "Overwriting lambda_function1.py\n"
     ]
    }
   ],
   "source": [
    "%%writefile lambda_function1.py\n",
    "\n",
    "import json\n",
    "import boto3\n",
    "import base64\n",
    "\n",
    "s3 = boto3.client('s3')\n",
    "\n",
    "def lambda_handler(event, context):\n",
    "    \"\"\"A function to serialize target data from S3\"\"\"\n",
    "\n",
    "    # Get the s3 address from the Step Function event input\n",
    "    key = event['s3_key'] ## TODO: fill in\n",
    "    bucket = event['s3_bucket'] ## TODO: fill in\n",
    "\n",
    "    # Download the data from s3 to /tmp/image.png\n",
    "    ## TODO: fill in\n",
    "    s3.download_file(bucket, key, '/tmp/image.png')\n",
    "\n",
    "    # We read the data from a file\n",
    "    with open(\"/tmp/image.png\", \"rb\") as f:\n",
    "        image_data = base64.b64encode(f.read())\n",
    "\n",
    "    # Pass the data back to the Step Function\n",
    "    print(\"Event:\", event.keys())\n",
    "    return {\n",
    "        'statusCode': 200,\n",
    "        'body': {\n",
    "            \"image_data\": image_data,\n",
    "            \"s3_bucket\": bucket,\n",
    "            \"s3_key\": key,\n",
    "            \"inferences\": []\n",
    "        }\n",
    "    }\n",
    "\n",
    "# response\n",
    "# {\n",
    "#   \"statusCode\": 200,\n",
    "#   \"body\": {\n",
    "#     \"image_data\": \"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\",\n",
    "#     \"s3_bucket\": \"sagemaker-studio-741682700515-7evegs5hn7\",\n",
    "#     \"s3_key\": \"test/bicycle_s_000513.png\",\n",
    "#     \"inferences\": []\n",
    "#   }\n",
    "# }"
   ]
  },
  {
   "cell_type": "code",
   "execution_count": 129,
   "metadata": {},
   "outputs": [
    {
     "name": "stdout",
     "output_type": "stream",
     "text": [
      "Overwriting lambda_function2.py\n"
     ]
    }
   ],
   "source": [
    "%%writefile lambda_function2.py\n",
    "\n",
    "import json\n",
    "# import sagemaker\n",
    "import base64\n",
    "# from sagemaker.serializers import IdentitySerializer\n",
    "# from sagemaker.predictor import Predictor\n",
    "\n",
    "import boto3\n",
    "\n",
    "\n",
    "# Fill this in with the name of your deployed model\n",
    "ENDPOINT = \"image-classification-2022-07-14-04-04-28-813\" ## TODO: fill in\n",
    "\n",
    "def lambda_handler(event, context):\n",
    "    \n",
    "    \n",
    "    # Decode the image data\n",
    "    image = base64.b64decode(event[\"image_data\"]) ## TODO: fill in)\n",
    "\n",
    "    # Instantiate a Predictor\n",
    "    runtime = boto3.Session().client('sagemaker-runtime')\n",
    "    response = runtime.invoke_endpoint(EndpointName=ENDPOINT, ContentType = 'image/png',Body = image)\n",
    "    predictions = json.loads(response['Body'].read().decode())\n",
    "    \n",
    "    # predictor = Predictor(ENDPOINT) ## TODO: fill in\n",
    "    \n",
    "    # For this model the IdentitySerializer needs to be \"image/png\"\n",
    "    # predictor.serializer = IdentitySerializer(\"image/png\")\n",
    "\n",
    "    # Make a prediction:\n",
    "    # inferences = predictor.predict(image) ## TODO: fill in\n",
    "\n",
    "    # We return the data back to the Step Function    \n",
    "    event[\"inferences\"] = predictions\n",
    "    return {\n",
    "        'statusCode': 200,\n",
    "        'body': json.dumps(event)\n",
    "    }"
   ]
  },
  {
   "cell_type": "code",
   "execution_count": 40,
   "metadata": {
    "collapsed": true,
    "jupyter": {
     "outputs_hidden": true
    }
   },
   "outputs": [
    {
     "name": "stdout",
     "output_type": "stream",
     "text": [
      "Collecting sagemaker\n",
      "  Using cached sagemaker-2.99.0-py2.py3-none-any.whl\n",
      "Collecting protobuf<4.0,>=3.1\n",
      "  Using cached protobuf-3.20.1-cp37-cp37m-manylinux_2_5_x86_64.manylinux1_x86_64.whl (1.0 MB)\n",
      "Collecting packaging>=20.0\n",
      "  Using cached packaging-21.3-py3-none-any.whl (40 kB)\n",
      "Collecting boto3<2.0,>=1.20.21\n",
      "  Using cached boto3-1.24.29-py3-none-any.whl (132 kB)\n",
      "Collecting smdebug-rulesconfig==1.0.1\n",
      "  Using cached smdebug_rulesconfig-1.0.1-py2.py3-none-any.whl (20 kB)\n",
      "Collecting pathos\n",
      "  Using cached pathos-0.2.9-py3-none-any.whl (76 kB)\n",
      "Collecting attrs<22,>=20.3.0\n",
      "  Using cached attrs-21.4.0-py2.py3-none-any.whl (60 kB)\n",
      "Collecting importlib-metadata<5.0,>=1.4.0\n",
      "  Using cached importlib_metadata-4.12.0-py3-none-any.whl (21 kB)\n",
      "Collecting google-pasta\n",
      "  Using cached google_pasta-0.2.0-py3-none-any.whl (57 kB)\n",
      "Collecting protobuf3-to-dict<1.0,>=0.1.5\n",
      "  Using cached protobuf3_to_dict-0.1.5-py3-none-any.whl\n",
      "Collecting numpy<2.0,>=1.9.0\n",
      "  Using cached numpy-1.21.6-cp37-cp37m-manylinux_2_12_x86_64.manylinux2010_x86_64.whl (15.7 MB)\n",
      "Collecting pandas\n",
      "  Using cached pandas-1.3.5-cp37-cp37m-manylinux_2_17_x86_64.manylinux2014_x86_64.whl (11.3 MB)\n",
      "Collecting botocore<1.28.0,>=1.27.29\n",
      "  Using cached botocore-1.27.29-py3-none-any.whl (9.0 MB)\n",
      "Collecting jmespath<2.0.0,>=0.7.1\n",
      "  Using cached jmespath-1.0.1-py3-none-any.whl (20 kB)\n",
      "Collecting s3transfer<0.7.0,>=0.6.0\n",
      "  Using cached s3transfer-0.6.0-py3-none-any.whl (79 kB)\n",
      "Collecting zipp>=0.5\n",
      "  Using cached zipp-3.8.1-py3-none-any.whl (5.6 kB)\n",
      "Collecting typing-extensions>=3.6.4\n",
      "  Using cached typing_extensions-4.3.0-py3-none-any.whl (25 kB)\n",
      "Collecting pyparsing!=3.0.5,>=2.0.2\n",
      "  Using cached pyparsing-3.0.9-py3-none-any.whl (98 kB)\n",
      "Collecting six\n",
      "  Using cached six-1.16.0-py2.py3-none-any.whl (11 kB)\n",
      "Collecting python-dateutil>=2.7.3\n",
      "  Using cached python_dateutil-2.8.2-py2.py3-none-any.whl (247 kB)\n",
      "Collecting pytz>=2017.3\n",
      "  Using cached pytz-2022.1-py2.py3-none-any.whl (503 kB)\n",
      "Collecting multiprocess>=0.70.13\n",
      "  Using cached multiprocess-0.70.13-py37-none-any.whl (115 kB)\n",
      "Collecting ppft>=1.7.6.5\n",
      "  Using cached ppft-1.7.6.5-py2.py3-none-any.whl (52 kB)\n",
      "Collecting dill>=0.3.5.1\n",
      "  Using cached dill-0.3.5.1-py2.py3-none-any.whl (95 kB)\n",
      "Collecting pox>=0.3.1\n",
      "  Using cached pox-0.3.1-py2.py3-none-any.whl (28 kB)\n",
      "Collecting urllib3<1.27,>=1.25.4\n",
      "  Using cached urllib3-1.26.10-py2.py3-none-any.whl (139 kB)\n",
      "Installing collected packages: pytz, zipp, urllib3, typing-extensions, smdebug-rulesconfig, six, pyparsing, protobuf, pox, numpy, jmespath, dill, attrs, python-dateutil, protobuf3-to-dict, ppft, packaging, multiprocess, importlib-metadata, google-pasta, pathos, pandas, botocore, s3transfer, boto3, sagemaker\n",
      "\u001b[31mERROR: pip's dependency resolver does not currently take into account all the packages that are installed. This behaviour is the source of the following dependency conflicts.\n",
      "pytest-astropy 0.8.0 requires pytest-cov>=2.0, which is not installed.\n",
      "pytest-astropy 0.8.0 requires pytest-filter-subpackage>=0.1, which is not installed.\n",
      "conda 4.13.0 requires ruamel_yaml_conda>=0.11.14, which is not installed.\n",
      "docker-compose 1.29.2 requires PyYAML<6,>=3.10, but you have pyyaml 6.0 which is incompatible.\n",
      "awscli 1.25.12 requires botocore==1.27.12, but you have botocore 1.27.29 which is incompatible.\n",
      "awscli 1.25.12 requires PyYAML<5.5,>=3.10, but you have pyyaml 6.0 which is incompatible.\n",
      "awscli 1.25.12 requires rsa<4.8,>=3.1.2, but you have rsa 4.8 which is incompatible.\n",
      "aiobotocore 2.3.3 requires botocore<1.24.22,>=1.24.21, but you have botocore 1.27.29 which is incompatible.\u001b[0m\u001b[31m\n",
      "\u001b[0mSuccessfully installed attrs-21.4.0 boto3-1.24.29 botocore-1.27.29 dill-0.3.5.1 google-pasta-0.2.0 importlib-metadata-4.12.0 jmespath-1.0.1 multiprocess-0.70.13 numpy-1.21.6 packaging-21.3 pandas-1.3.5 pathos-0.2.9 pox-0.3.1 ppft-1.7.6.5 protobuf-3.20.1 protobuf3-to-dict-0.1.5 pyparsing-3.0.9 python-dateutil-2.8.2 pytz-2022.1 s3transfer-0.6.0 sagemaker-2.99.0 six-1.16.0 smdebug-rulesconfig-1.0.1 typing-extensions-4.3.0 urllib3-1.26.10 zipp-3.8.1\n",
      "\u001b[33mWARNING: Running pip as the 'root' user can result in broken permissions and conflicting behaviour with the system package manager. It is recommended to use a virtual environment instead: https://pip.pypa.io/warnings/venv\u001b[0m\u001b[33m\n",
      "\u001b[0m"
     ]
    }
   ],
   "source": [
    "! pip install --target ./sagemakerpackage sagemaker"
   ]
  },
  {
   "cell_type": "code",
   "execution_count": 47,
   "metadata": {},
   "outputs": [],
   "source": [
    "import tarfile\n",
    "import os\n",
    "\n",
    "def make_tarfile(output_filename, source_dir):\n",
    "    with tarfile.open(output_filename, \"w:gz\") as tar:\n",
    "        tar.add(source_dir, arcname=os.path.basename(source_dir))\n",
    "make_tarfile('package.gz', './sagemakerpackage')"
   ]
  },
  {
   "cell_type": "code",
   "execution_count": null,
   "metadata": {},
   "outputs": [],
   "source": []
  },
  {
   "cell_type": "code",
   "execution_count": 41,
   "metadata": {},
   "outputs": [
    {
     "name": "stdout",
     "output_type": "stream",
     "text": [
      "Writing lambda_function3.py\n"
     ]
    }
   ],
   "source": [
    "%%writefile lambda_function3.py\n",
    "\n",
    "import json\n",
    "\n",
    "\n",
    "THRESHOLD = .8\n",
    "\n",
    "\n",
    "def lambda_handler(event, context):\n",
    "    \n",
    "    # Grab the inferences from the event\n",
    "    inferences = event[\"inferences\"] ## TODO: fill in\n",
    "    \n",
    "    # Check if any values in our inferences are above THRESHOLD\n",
    "    meets_threshold = [x for x in inference if x > THRESHOLD]## TODO: fill in\n",
    "    \n",
    "    # If our threshold is met, pass our data back out of the\n",
    "    # Step Function, else, end the Step Function with an error\n",
    "    if meets_threshold:\n",
    "        pass\n",
    "    else:\n",
    "        raise(\"THRESHOLD_CONFIDENCE_NOT_MET\")\n",
    "\n",
    "    return {\n",
    "        'statusCode': 200,\n",
    "        'body': json.dumps(event)\n",
    "    }"
   ]
  },
  {
   "cell_type": "markdown",
   "metadata": {},
   "source": [
    "\n",
    "Great! Now you can use the files in `./test` as test files for our workflow. Depending on our threshold, our workflow should reliably pass predictions about images from `./test` on to downstream systems, while erroring out for inferences below our confidence threshold!\n",
    "\n",
    "### Testing and Evaluation\n",
    "\n",
    "Do several step function invokations using data from the `./test` folder. This process should give you confidence that the workflow both *succeeds* AND *fails* as expected. In addition, SageMaker Model Monitor will generate recordings of your data and inferences which we can visualize.\n",
    "\n",
    "Here's a function that can help you generate test inputs for your invokations:"
   ]
  },
  {
   "cell_type": "code",
   "execution_count": 98,
   "metadata": {},
   "outputs": [
    {
     "data": {
      "text/plain": [
       "'{\"image_data\": \"\", \"s3_bucket\": \"sagemaker-studio-741682700515-7evegs5hn7\", \"s3_key\": \"test/safety_bike_s_001253.png\"}'"
      ]
     },
     "execution_count": 98,
     "metadata": {},
     "output_type": "execute_result"
    }
   ],
   "source": [
    "import random\n",
    "import boto3\n",
    "import json\n",
    "\n",
    "\n",
    "def generate_test_case():\n",
    "    # Setup s3 in boto3\n",
    "    s3 = boto3.resource('s3')\n",
    "    \n",
    "    # Randomly pick from sfn or test folders in our bucket\n",
    "    objects = s3.Bucket(bucket).objects.filter()\n",
    "    \n",
    "    # Grab any random object key from that folder!\n",
    "    obj = random.choice([x.key for x in objects if x.key[:5]=='test/'])\n",
    "    \n",
    "    return json.dumps({\n",
    "        \"image_data\": \"\",\n",
    "        \"s3_bucket\": bucket,\n",
    "        \"s3_key\": obj\n",
    "    })\n",
    "generate_test_case()"
   ]
  },
  {
   "cell_type": "markdown",
   "metadata": {},
   "source": [
    "In the Step Function dashboard for your new function, you can create new executions and copy in the generated test cases. Do several executions so that you can generate data you can evaluate and visualize.\n",
    "\n",
    "Once you've done several executions, let's visualize the record of our inferences. Pull in the JSONLines data from your inferences like so:"
   ]
  },
  {
   "cell_type": "code",
   "execution_count": 99,
   "metadata": {},
   "outputs": [],
   "source": [
    "from sagemaker.s3 import S3Downloader\n",
    "\n",
    "# In S3 your data will be saved to a datetime-aware path\n",
    "# Find a path related to a datetime you're interested in\n",
    "data_path = 's3://sagemaker-studio-741682700515-7evegs5hn7/data_capture/image-classification-2022-07-14-04-04-28-813/AllTraffic/2022/07/14/05/'## TODO: fill in the path to your captured data\n",
    "\n",
    "S3Downloader.download(data_path, \"captured_data\")\n",
    "\n",
    "# Feel free to repeat this multiple times and pull in more data"
   ]
  },
  {
   "cell_type": "markdown",
   "metadata": {},
   "source": [
    "The data are in JSONLines format, where multiple valid JSON objects are stacked on top of eachother in a single `jsonl` file. We'll import an open-source library, `jsonlines` that was purpose built for parsing this format."
   ]
  },
  {
   "cell_type": "code",
   "execution_count": 74,
   "metadata": {},
   "outputs": [
    {
     "name": "stdout",
     "output_type": "stream",
     "text": [
      "Requirement already satisfied: jsonlines in /opt/conda/lib/python3.7/site-packages (3.1.0)\n",
      "Requirement already satisfied: typing-extensions in /opt/conda/lib/python3.7/site-packages (from jsonlines) (4.2.0)\n",
      "Requirement already satisfied: attrs>=19.2.0 in /opt/conda/lib/python3.7/site-packages (from jsonlines) (20.3.0)\n",
      "\u001b[33mWARNING: Running pip as the 'root' user can result in broken permissions and conflicting behaviour with the system package manager. It is recommended to use a virtual environment instead: https://pip.pypa.io/warnings/venv\u001b[0m\u001b[33m\n",
      "\u001b[0m"
     ]
    }
   ],
   "source": [
    "!pip install jsonlines\n",
    "import jsonlines"
   ]
  },
  {
   "cell_type": "markdown",
   "metadata": {},
   "source": [
    "Now we can extract the data from each of the source files:"
   ]
  },
  {
   "cell_type": "code",
   "execution_count": 100,
   "metadata": {},
   "outputs": [],
   "source": [
    "import os\n",
    "\n",
    "# List the file names we downloaded\n",
    "file_handles = os.listdir(\"./captured_data\")\n",
    "\n",
    "# Dump all the data into an array\n",
    "json_data = []\n",
    "for jsonl in file_handles:\n",
    "    if jsonl[-4:] != 'ints':\n",
    "        with jsonlines.open(f\"./captured_data/{jsonl}\") as f:\n",
    "            json_data.append(f.read())"
   ]
  },
  {
   "cell_type": "markdown",
   "metadata": {},
   "source": [
    "The data should now be a list of dictionaries, with significant nesting. We'll give you an example of some code that grabs data out of the objects and visualizes it:"
   ]
  },
  {
   "cell_type": "code",
   "execution_count": null,
   "metadata": {},
   "outputs": [],
   "source": []
  },
  {
   "cell_type": "code",
   "execution_count": 101,
   "metadata": {},
   "outputs": [
    {
     "data": {
      "text/plain": [
       "([0.43361687660217285, 0.5663831233978271], '2022-07-14T05:56:15Z')"
      ]
     },
     "execution_count": 101,
     "metadata": {},
     "output_type": "execute_result"
    }
   ],
   "source": [
    "# Define how we'll get our data\n",
    "def simple_getter(obj):\n",
    "    inferences = obj[\"captureData\"][\"endpointOutput\"][\"data\"]\n",
    "    timestamp = obj[\"eventMetadata\"][\"inferenceTime\"]\n",
    "    return json.loads(inferences), timestamp\n",
    "\n",
    "simple_getter(json_data[0])"
   ]
  },
  {
   "cell_type": "markdown",
   "metadata": {},
   "source": [
    "Finally, here's an example of a visualization you can build with this data. In this last part, you will take some time and build your own - the captured data has the input images, the resulting inferences, and the timestamps."
   ]
  },
  {
   "cell_type": "code",
   "execution_count": null,
   "metadata": {},
   "outputs": [],
   "source": []
  },
  {
   "cell_type": "code",
   "execution_count": 105,
   "metadata": {},
   "outputs": [
    {
     "data": {
      "image/png": "[encoded data removed]",
      "text/plain": [
       "<Figure size 432x288 with 1 Axes>"
      ]
     },
     "metadata": {},
     "output_type": "display_data"
    }
   ],
   "source": [
    "# Populate the data for the x and y axis\n",
    "x = []\n",
    "y = []\n",
    "for obj in json_data:\n",
    "    inference, timestamp = simple_getter(obj)\n",
    "    \n",
    "    y.append(max(inference))\n",
    "    x.append(timestamp)\n",
    "\n",
    "# Todo: here is an visualization example, take some time to build another visual that helps monitor the result\n",
    "# Plot the data\n",
    "plt.scatter(x, y, c=['r' if k<.94 else 'b' for k in y ])\n",
    "plt.axhline(y=0.94, color='g', linestyle='--')\n",
    "plt.ylim(bottom=.5)\n",
    "\n",
    "# Add labels\n",
    "plt.ylabel(\"Confidence\")\n",
    "plt.suptitle(\"Observed Recent Inferences\", size=14)\n",
    "plt.title(\"Pictured with confidence threshold for production use\", size=10)\n",
    "\n",
    "# Give it some pizzaz!\n",
    "plt.style.use(\"Solarize_Light2\")\n",
    "plt.gcf().autofmt_xdate()"
   ]
  },
  {
   "cell_type": "markdown",
   "metadata": {},
   "source": [
    "### Todo: build your own visualization\n"
   ]
  },
  {
   "cell_type": "code",
   "execution_count": 126,
   "metadata": {},
   "outputs": [
    {
     "data": {
      "image/png": "[encoded data removed]",
      "text/plain": [
       "<Figure size 432x288 with 1 Axes>"
      ]
     },
     "metadata": {},
     "output_type": "display_data"
    },
    {
     "name": "stdout",
     "output_type": "stream",
     "text": [
      "[0.43361687660217285, 0.5663831233978271]\n"
     ]
    },
    {
     "data": {
      "image/png": "[encoded data removed]",
      "text/plain": [
       "<Figure size 432x288 with 1 Axes>"
      ]
     },
     "metadata": {},
     "output_type": "display_data"
    },
    {
     "name": "stdout",
     "output_type": "stream",
     "text": [
      "[0.5996758937835693, 0.4003240764141083]\n"
     ]
    },
    {
     "data": {
      "image/png": "[encoded data removed]",
      "text/plain": [
       "<Figure size 432x288 with 1 Axes>"
      ]
     },
     "metadata": {},
     "output_type": "display_data"
    },
    {
     "name": "stdout",
     "output_type": "stream",
     "text": [
      "[0.4432328939437866, 0.5567671060562134]\n"
     ]
    },
    {
     "data": {
      "image/png": "[encoded data removed]",
      "text/plain": [
       "<Figure size 432x288 with 1 Axes>"
      ]
     },
     "metadata": {},
     "output_type": "display_data"
    },
    {
     "name": "stdout",
     "output_type": "stream",
     "text": [
      "[0.0050208852626383305, 0.9949790835380554]\n"
     ]
    }
   ],
   "source": [
    "from PIL import Image\n",
    "import io\n",
    "\n",
    "for obj in json_data:\n",
    "    im = obj['captureData'][\"endpointInput\"][\"data\"]\n",
    "    img = Image.open(io.BytesIO(base64.decodebytes(im.encode('utf-8'))))\n",
    "    plt.imshow(img);\n",
    "    plt.show()\n",
    "    inference, timestamp = simple_getter(obj)\n",
    "    print(inference)"
   ]
  },
  {
   "cell_type": "markdown",
   "metadata": {},
   "source": [
    "### Congratulations!\n",
    "\n",
    "You've reached the end of the project. In this project you created an event-drivent ML workflow that can be incorporated into the Scones Unlimited production architecture. You used the SageMaker Estimator API to deploy your SageMaker Model and Endpoint, and you used AWS Lambda and Step Functions to orchestrate your ML workflow. Using SageMaker Model Monitor, you instrumented and observed your Endpoint, and at the end of the project you built a visualization to help stakeholders understand the performance of the Endpoint over time. If you're up for it, you can even go further with these stretch goals:\n",
    "\n",
    "* Extend your workflow to incorporate more classes: the CIFAR dataset includes other vehicles that Scones Unlimited can identify with this model.\n",
    "* Modify your event driven workflow: can you rewrite your Lambda functions so that the workflow can process multiple image inputs in parallel? Can the Step Function \"fan out\" to accomodate this new workflow?\n",
    "* Consider the test data generator we provided for you. Can we use it to create a \"dummy data\" generator, to simulate a continuous stream of input data? Or a big paralell load of data?\n",
    "* What if we want to get notified every time our step function errors out? Can we use the Step Functions visual editor in conjunction with a service like SNS to accomplish this? Try it out!\n",
    "\n",
    "\n"
   ]
  },
  {
   "cell_type": "code",
   "execution_count": 127,
   "metadata": {},
   "outputs": [],
   "source": [
    "make_tarfile('all.gz', '.')"
   ]
  },
  {
   "cell_type": "code",
   "execution_count": null,
   "metadata": {},
   "outputs": [],
   "source": []
  }
 ],
 "metadata": {
  "instance_type": "ml.t3.medium",
  "kernelspec": {
   "display_name": "Python 3 (Data Science)",
   "language": "python",
   "name": "python3__SAGEMAKER_INTERNAL__arn:aws:sagemaker:us-east-1:081325390199:image/datascience-1.0"
  },
  "language_info": {
   "codemirror_mode": {
    "name": "ipython",
    "version": 3
   },
   "file_extension": ".py",
   "mimetype": "text/x-python",
   "name": "python",
   "nbconvert_exporter": "python",
   "pygments_lexer": "ipython3",
   "version": "3.7.10"
  }
 },
 "nbformat": 4,
 "nbformat_minor": 4
}
